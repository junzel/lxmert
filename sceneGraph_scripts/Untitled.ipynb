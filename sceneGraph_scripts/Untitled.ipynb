{
 "cells": [
  {
   "cell_type": "code",
   "execution_count": 50,
   "metadata": {},
   "outputs": [],
   "source": [
    "from pairwise_relations import *\n",
    "\n",
    "TRAIN_SCENE_GRAPHS = 'data/normalized_train_sceneGraphs.json'\n",
    "VAL_SCENE_GRAPHS = 'data/normalized_valid_sceneGraphs.json'\n",
    "GRAPH_MAPPING = 'data/graph_mapping.json'"
   ]
  },
  {
   "cell_type": "code",
   "execution_count": 9,
   "metadata": {},
   "outputs": [
    {
     "name": "stdout",
     "output_type": "stream",
     "text": [
      "Start to load Faster-RCNN detected objects from ../data/vg_gqa_imgfeat/vg_gqa_obj36.tsv\n",
      "Loaded 148854 images in file ../data/vg_gqa_imgfeat/vg_gqa_obj36.tsv in 706 seconds.\n"
     ]
    }
   ],
   "source": [
    "# Load output of Faster R-CNN\n",
    "split = 'train'\n",
    "if split == 'valid':\n",
    "    path = \"../data/vg_gqa_imgfeat/gqa_testdev_obj36.tsv\"\n",
    "else:\n",
    "    path = \"../data/vg_gqa_imgfeat/vg_gqa_obj36.tsv\"\n",
    "key2data = load_obj_tsv(path)"
   ]
  },
  {
   "cell_type": "code",
   "execution_count": 14,
   "metadata": {},
   "outputs": [],
   "source": [
    "train_img_data = key2data\n",
    "imgid2img = {}\n",
    "for img_datum in train_img_data:\n",
    "    imgid2img[img_datum['img_id']] = img_datum"
   ]
  },
  {
   "cell_type": "code",
   "execution_count": 16,
   "metadata": {},
   "outputs": [
    {
     "name": "stdout",
     "output_type": "stream",
     "text": [
      "Start to load Faster-RCNN detected objects from ../data/vg_gqa_imgfeat/gqa_testdev_obj36.tsv\n",
      "Loaded 398 images in file ../data/vg_gqa_imgfeat/gqa_testdev_obj36.tsv in 1 seconds.\n"
     ]
    }
   ],
   "source": [
    "# Load output of Faster R-CNN\n",
    "split = 'valid'\n",
    "if split == 'valid':\n",
    "    path = \"../data/vg_gqa_imgfeat/gqa_testdev_obj36.tsv\"\n",
    "else:\n",
    "    path = \"../data/vg_gqa_imgfeat/vg_gqa_obj36.tsv\"\n",
    "valid_img_data = load_obj_tsv(path)\n",
    "valid_imgid2img = {}\n",
    "for img_datum in valid_img_data:\n",
    "    valid_imgid2img[img_datum['img_id']] = img_datum"
   ]
  },
  {
   "cell_type": "code",
   "execution_count": 52,
   "metadata": {},
   "outputs": [],
   "source": [
    "output = dict()\n",
    "split = 'train'\n",
    "# Loading scene graphs to imgid2scenegraph\n",
    "if split == 'valid':\n",
    "    with open(VAL_SCENE_GRAPHS) as f:\n",
    "        imgid2scenegraph = json.load(f)\n",
    "else:\n",
    "    with open(TRAIN_SCENE_GRAPHS) as f:\n",
    "        imgid2scenegraph = json.load(f)\n",
    "with open(GRAPH_MAPPING) as f:\n",
    "    graph_mapping = json.load(f)\n",
    "    \n",
    "relation_mapping = graph_mapping['relations']"
   ]
  },
  {
   "cell_type": "code",
   "execution_count": 54,
   "metadata": {},
   "outputs": [],
   "source": [
    "for img_id, scene_graph in imgid2scenegraph.items():\n",
    "    scene_graph_objects = scene_graph['objects']\n",
    "    img_info = imgid2img[img_id]\n",
    "    obj_num = img_info['num_boxes']\n",
    "    boxes = img_info['boxes'].copy()\n",
    "    feats = img_info['features'].copy()\n",
    "    assert len(boxes) == len(feats) == obj_num\n",
    "\n",
    "    # Normalize the boxes (to 0 ~ 1)\n",
    "    img_h, img_w = img_info['img_h'], img_info['img_w']\n",
    "    boxes = boxes.copy()\n",
    "    boxes[:, (0, 2)] /= img_w\n",
    "    boxes[:, (1, 3)] /= img_h\n",
    "    \n",
    "    break\n",
    "    \n",
    "#     tensor = relation_tensor(object_ids[img_id], scene_graph_objects, relation_mapping)\n",
    "#     pdb.set_trace()\n",
    "#     output[img_id] = tensor"
   ]
  },
  {
   "cell_type": "code",
   "execution_count": 55,
   "metadata": {},
   "outputs": [
    {
     "data": {
      "text/plain": [
       "array([[0.3052691 , 0.64168787, 0.35909212, 0.8385822 ],\n",
       "       [0.48595268, 0.6107004 , 0.54325104, 0.8202443 ],\n",
       "       [0.7439344 , 0.03551776, 0.97384924, 0.8383619 ],\n",
       "       [0.9097337 , 0.54618496, 0.99875   , 0.81120956],\n",
       "       [0.01174654, 0.08685242, 0.34417617, 0.6875449 ],\n",
       "       [0.51552373, 0.02241516, 0.7477145 , 0.79128295],\n",
       "       [0.43971556, 0.3787232 , 0.6010553 , 0.8784623 ],\n",
       "       [0.        , 0.6284558 , 0.84316283, 0.99833333],\n",
       "       [0.30601716, 0.        , 0.5411207 , 0.53367996],\n",
       "       [0.28347257, 0.44406068, 0.62642974, 0.9188445 ],\n",
       "       [0.29876548, 0.46991357, 0.37352723, 0.6605868 ],\n",
       "       [0.2468482 , 0.40664768, 0.417183  , 0.9021451 ],\n",
       "       [0.1490323 , 0.01897544, 0.26843852, 0.32475856],\n",
       "       [0.14862594, 0.47681117, 0.45554158, 0.8885323 ],\n",
       "       [0.78255755, 0.36074334, 0.8783681 , 0.8589862 ],\n",
       "       [0.        , 0.09889878, 0.18646508, 0.89710104],\n",
       "       [0.45140293, 0.        , 0.99875   , 0.60809666],\n",
       "       [0.4647102 , 0.49483714, 0.5647133 , 0.65184426],\n",
       "       [0.41279843, 0.27041468, 0.99875   , 0.99833333],\n",
       "       [0.3903852 , 0.5302181 , 0.4445453 , 0.59866005],\n",
       "       [0.90318274, 0.705309  , 0.94948477, 0.8371492 ],\n",
       "       [0.14878601, 0.10015997, 0.2600248 , 0.5886167 ],\n",
       "       [0.15106645, 0.19905432, 0.26652348, 0.65184754],\n",
       "       [0.3072764 , 0.4175088 , 0.3652665 , 0.4854103 ],\n",
       "       [0.69685394, 0.4790664 , 0.84979385, 0.7339375 ],\n",
       "       [0.4954619 , 0.49196136, 0.99875   , 0.99833333],\n",
       "       [0.62277997, 0.45430785, 0.9399033 , 0.90690196],\n",
       "       [0.739311  , 0.45874727, 0.99875   , 0.91786283],\n",
       "       [0.16494408, 0.28553832, 0.20629673, 0.3469694 ],\n",
       "       [0.4645293 , 0.5694875 , 0.564183  , 0.8486822 ],\n",
       "       [0.50218236, 0.4309321 , 0.54623437, 0.49283925],\n",
       "       [0.47738156, 0.8024522 , 0.5660342 , 0.8607178 ],\n",
       "       [0.23464018, 0.0708788 , 0.30359578, 0.61212593],\n",
       "       [0.2982016 , 0.4287791 , 0.40247428, 0.7926071 ],\n",
       "       [0.9372719 , 0.57684505, 0.99875   , 0.6860052 ],\n",
       "       [0.30289087, 0.8257674 , 0.99875   , 0.99833333]], dtype=float32)"
      ]
     },
     "execution_count": 55,
     "metadata": {},
     "output_type": "execute_result"
    }
   ],
   "source": [
    "boxes"
   ]
  },
  {
   "cell_type": "code",
   "execution_count": null,
   "metadata": {},
   "outputs": [],
   "source": []
  }
 ],
 "metadata": {
  "kernelspec": {
   "display_name": "Python 3",
   "language": "python",
   "name": "python3"
  },
  "language_info": {
   "codemirror_mode": {
    "name": "ipython",
    "version": 3
   },
   "file_extension": ".py",
   "mimetype": "text/x-python",
   "name": "python",
   "nbconvert_exporter": "python",
   "pygments_lexer": "ipython3",
   "version": "3.7.6"
  }
 },
 "nbformat": 4,
 "nbformat_minor": 4
}
